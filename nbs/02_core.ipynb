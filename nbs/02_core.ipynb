{
 "cells": [
  {
   "cell_type": "markdown",
   "metadata": {},
   "source": [
    "# core\n",
    "\n",
    "A set of core functions and a wrapper for the azure cli and some other azure apis, which simplifies authentication and retrying"
   ]
  },
  {
   "cell_type": "code",
   "execution_count": null,
   "metadata": {},
   "outputs": [],
   "source": [
    "#| default_exp core"
   ]
  },
  {
   "cell_type": "code",
   "execution_count": null,
   "metadata": {},
   "outputs": [],
   "source": [
    "#| hide\n",
    "from nbdev.showdoc import *"
   ]
  },
  {
   "cell_type": "code",
   "execution_count": null,
   "metadata": {},
   "outputs": [],
   "source": [
    "#| exporti\n",
    "import json, subprocess, os, sys, pandas\n",
    "from platformdirs import PlatformDirs\n",
    "from diskcache import Cache, memoize_stampede\n",
    "from tenacity import wait_random_exponential, stop_after_attempt, Retrying"
   ]
  },
  {
   "cell_type": "markdown",
   "metadata": {},
   "source": [
    "## Standardised default disk caching and retry helpers\n",
    "The below `cache` sets up a persistent per user disk cache (to ensure security) that can be used throughout api setup and configuration. `retryer` will try to run a function again up to 3 times with a random exponential backoff to handle upstream api exceptions."
   ]
  },
  {
   "cell_type": "code",
   "execution_count": null,
   "metadata": {},
   "outputs": [],
   "source": [
    "#| export\n",
    "dirs = PlatformDirs(\"nbdev-squ\")\n",
    "cache = Cache(dirs.user_cache_dir)\n",
    "retryer = Retrying(wait=wait_random_exponential(), stop=stop_after_attempt(3))"
   ]
  },
  {
   "cell_type": "code",
   "execution_count": null,
   "metadata": {},
   "outputs": [],
   "source": [
    "#| export\n",
    "def _cli(cmd: list[str], capture_output=True):\n",
    "    cmd = [sys.executable, \"-m\", \"azure.cli\"] + cmd + [\"-o\", \"json\"]\n",
    "    if capture_output: # Try lots, parse output as json\n",
    "        result = retryer(subprocess.run, cmd, capture_output=capture_output, check=True)\n",
    "        return json.loads(result.stdout.decode(\"utf8\"))\n",
    "    else: # Run interactively, ignore success/fail\n",
    "        subprocess.run(cmd)"
   ]
  },
  {
   "cell_type": "markdown",
   "metadata": {},
   "source": [
    "## Login and secrets management\n",
    "The squ library depends on authentication configured and ready to go. There are 2 paths to login used based on environment variables available."
   ]
  },
  {
   "cell_type": "code",
   "execution_count": null,
   "metadata": {},
   "outputs": [],
   "source": [
    "#| export\n",
    "def login(refresh: bool=False # Force relogin\n",
    "         ):\n",
    "    if os.environ.get(\"IDENTITY_HEADER\") and not cache.get(\"msi_failed\"):\n",
    "        if refresh:\n",
    "            _cli([\"logout\"])\n",
    "        try:\n",
    "            _cli([\"login\", \"--identity\"])\n",
    "        except subprocess.CalledProcessError:\n",
    "            cache[\"msi_failed\"] = True\n",
    "        else:\n",
    "            cache.delete(\"msi_failed\")\n",
    "            cache[\"logged_in\"] = True\n",
    "            cache[\"login_time\"] = pandas.Timestamp(\"now\")\n",
    "    if not os.environ.get(\"IDENTITY_HEADER\") or cache.get(\"msi_failed\"):\n",
    "        while not cache.get(\"logged_in\"):\n",
    "            try:\n",
    "                _cli([\"account\", \"show\"])\n",
    "            except subprocess.CalledProcessError:\n",
    "                tenant = cache.get(\"tenant\", [])\n",
    "                if tenant:\n",
    "                    tenant = [\"--tenant\", tenant]\n",
    "                _cli([\"login\", *tenant, \"--use-device-code\"], capture_output=False)\n",
    "            else:\n",
    "                cache[\"logged_in\"] = True\n",
    "                cache[\"login_time\"] = pandas.Timestamp(\"now\")"
   ]
  },
  {
   "cell_type": "code",
   "execution_count": null,
   "metadata": {},
   "outputs": [],
   "source": [
    "#| hide\n",
    "import nbdev; nbdev.nbdev_export()"
   ]
  }
 ],
 "metadata": {
  "kernelspec": {
   "display_name": "python3",
   "language": "python",
   "name": "python3"
  }
 },
 "nbformat": 4,
 "nbformat_minor": 4
}
