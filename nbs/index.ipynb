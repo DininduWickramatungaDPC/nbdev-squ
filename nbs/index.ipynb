{
 "cells": [
  {
   "cell_type": "code",
   "execution_count": null,
   "metadata": {},
   "outputs": [],
   "source": [
    "#| hide\n",
    "from squ import api, clients"
   ]
  },
  {
   "cell_type": "markdown",
   "metadata": {},
   "source": [
    "# SIEM Query Utils\n",
    "\n",
    "> Python SIEM Query Utils nbdev edition"
   ]
  },
  {
   "cell_type": "markdown",
   "metadata": {},
   "source": [
    "## Install"
   ]
  },
  {
   "cell_type": "markdown",
   "metadata": {},
   "source": [
    "```sh\n",
    "pip install nbdev_squ\n",
    "```"
   ]
  },
  {
   "cell_type": "markdown",
   "metadata": {},
   "source": [
    "## How to use"
   ]
  },
  {
   "attachments": {},
   "cell_type": "markdown",
   "metadata": {},
   "source": [
    "Before using, config needs to be loaded into `squ.core.cache`, which can be done automatically from json in a keyvault by setting the env var `SQU_CONFIG` to `\"keyvault/tenantid\"`.\n",
    "\n",
    "```bash\n",
    "export SQU_CONFIG=\"{{ keyvault }}/{{ tenantid }}\"\n",
    "```"
   ]
  },
  {
   "cell_type": "code",
   "execution_count": null,
   "metadata": {},
   "outputs": [],
   "source": [
    "from squ import api, clients\n",
    "import io, pandas\n",
    "\n",
    "# Load workspace info from datalake blob storage\n",
    "df = api.list_workspaces(fmt=\"df\"); print(df.shape)\n",
    "\n",
    "# Load workspace info from introspection of azure graph\n",
    "df = api.list_securityinsights(); print(df.shape)\n",
    "\n",
    "# Kusto query to Sentinel workspaces via Azure Lighthouse\n",
    "df = api.query_all(\"SecurityIncident | take 20\", fmt=\"df\"); print(df.shape)\n",
    "\n",
    "# Kusto query to ADX\n",
    "#df = api.adxtable2df(api.adx_query(\"kusto query | take 20\"))\n",
    "\n",
    "# General azure cli cmd\n",
    "api.azcli([\"config\", \"set\", \"extension.use_dynamic_install=yes_without_prompt\"])\n",
    "print(len(api.azcli([\"account\", \"list\"])))\n",
    "\n",
    "# Various pre-configured api clients\n",
    "\n",
    "# RunZero\n",
    "#response = clients.runzero.get(\"/export/org/assets.csv\", params={\"search\": \"has_public:t AND alive:t AND (protocol:rdp OR protocol:vnc OR protocol:teamviewer OR protocol:telnet OR protocol:ftp)\"})\n",
    "#runzero_assets = pandas.read_csv(io.StringIO(response.text))\n",
    "\n",
    "# Jira\n",
    "#issues = clients.jira.jql(\"updated > -1d\")[\"issues\"]\n",
    "\n",
    "# AbuseIPDB\n",
    "#clients.abuseipdb.check_ip(\"1.1.1.1\")"
   ]
  },
  {
   "cell_type": "code",
   "execution_count": null,
   "metadata": {},
   "outputs": [],
   "source": []
  }
 ],
 "metadata": {
  "kernelspec": {
   "display_name": "python3",
   "language": "python",
   "name": "python3"
  }
 },
 "nbformat": 4,
 "nbformat_minor": 4
}
